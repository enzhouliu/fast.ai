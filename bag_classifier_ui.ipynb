{
  "nbformat": 4,
  "nbformat_minor": 0,
  "metadata": {
    "colab": {
      "name": "bag_classifier_ui.ipynb",
      "provenance": [],
      "mount_file_id": "1yuWIF8NSkVAO7oG75fMBhiPdV5Wod6pX",
      "authorship_tag": "ABX9TyNOTm02NrWJ/6fAnC/vC8J1",
      "include_colab_link": true
    },
    "kernelspec": {
      "name": "python3",
      "display_name": "Python 3"
    },
    "language_info": {
      "name": "python"
    },
    "accelerator": "GPU",
    "widgets": {
      "application/vnd.jupyter.widget-state+json": {
        "d9c44993f4ee46a5bf05608439d2639f": {
          "model_module": "@jupyter-widgets/controls",
          "model_name": "VBoxModel",
          "model_module_version": "1.5.0",
          "state": {
            "_view_name": "VBoxView",
            "_dom_classes": [],
            "_model_name": "VBoxModel",
            "_view_module": "@jupyter-widgets/controls",
            "_model_module_version": "1.5.0",
            "_view_count": null,
            "_view_module_version": "1.5.0",
            "box_style": "",
            "layout": "IPY_MODEL_55d95c30511544a6840ed2d8529e8c80",
            "_model_module": "@jupyter-widgets/controls",
            "children": [
              "IPY_MODEL_ff7452941ce04e3da5a7b40611d58b4f",
              "IPY_MODEL_02d922fdbd474b0e9fe308109647788d",
              "IPY_MODEL_c1181947fccd4903803e0ee58e4b7e6b",
              "IPY_MODEL_f402d1dc94b84462a8588004e5ef4390",
              "IPY_MODEL_ad557899e9d4457b8170b672258eb615"
            ]
          }
        },
        "55d95c30511544a6840ed2d8529e8c80": {
          "model_module": "@jupyter-widgets/base",
          "model_name": "LayoutModel",
          "model_module_version": "1.2.0",
          "state": {
            "_view_name": "LayoutView",
            "grid_template_rows": null,
            "right": null,
            "justify_content": null,
            "_view_module": "@jupyter-widgets/base",
            "overflow": null,
            "_model_module_version": "1.2.0",
            "_view_count": null,
            "flex_flow": null,
            "width": null,
            "min_width": null,
            "border": null,
            "align_items": null,
            "bottom": null,
            "_model_module": "@jupyter-widgets/base",
            "top": null,
            "grid_column": null,
            "overflow_y": null,
            "overflow_x": null,
            "grid_auto_flow": null,
            "grid_area": null,
            "grid_template_columns": null,
            "flex": null,
            "_model_name": "LayoutModel",
            "justify_items": null,
            "grid_row": null,
            "max_height": null,
            "align_content": null,
            "visibility": null,
            "align_self": null,
            "height": null,
            "min_height": null,
            "padding": null,
            "grid_auto_rows": null,
            "grid_gap": null,
            "max_width": null,
            "order": null,
            "_view_module_version": "1.2.0",
            "grid_template_areas": null,
            "object_position": null,
            "object_fit": null,
            "grid_auto_columns": null,
            "margin": null,
            "display": null,
            "left": null
          }
        },
        "ff7452941ce04e3da5a7b40611d58b4f": {
          "model_module": "@jupyter-widgets/controls",
          "model_name": "LabelModel",
          "model_module_version": "1.5.0",
          "state": {
            "_view_name": "LabelView",
            "style": "IPY_MODEL_3e612108b6174e848e533059d1d7b3c2",
            "_dom_classes": [],
            "description": "",
            "_model_name": "LabelModel",
            "placeholder": "​",
            "_view_module": "@jupyter-widgets/controls",
            "_model_module_version": "1.5.0",
            "value": "Select your handbag!",
            "_view_count": null,
            "_view_module_version": "1.5.0",
            "description_tooltip": null,
            "_model_module": "@jupyter-widgets/controls",
            "layout": "IPY_MODEL_dc3eff2c69bc42ab9b7a66ba63c37b05"
          }
        },
        "02d922fdbd474b0e9fe308109647788d": {
          "model_module": "@jupyter-widgets/controls",
          "model_name": "FileUploadModel",
          "model_module_version": "1.5.0",
          "state": {
            "_view_name": "FileUploadView",
            "_counter": 1,
            "style": "IPY_MODEL_09aef74590bd4a409489feebb0dcaf58",
            "_dom_classes": [],
            "description": "Upload",
            "multiple": false,
            "_model_name": "FileUploadModel",
            "data": [
              null
            ],
            "button_style": "",
            "_view_module": "@jupyter-widgets/controls",
            "_model_module_version": "1.5.0",
            "accept": "",
            "_view_count": null,
            "disabled": false,
            "_view_module_version": "1.5.0",
            "error": "",
            "description_tooltip": null,
            "metadata": [
              {
                "name": "hermes.jpeg",
                "type": "image/jpeg",
                "size": 3851,
                "lastModified": 1634636995607
              }
            ],
            "_model_module": "@jupyter-widgets/controls",
            "layout": "IPY_MODEL_3fc7477098b548ed81901342ea1b3b04",
            "icon": "upload"
          }
        },
        "c1181947fccd4903803e0ee58e4b7e6b": {
          "model_module": "@jupyter-widgets/controls",
          "model_name": "ButtonModel",
          "model_module_version": "1.5.0",
          "state": {
            "_view_name": "ButtonView",
            "style": "IPY_MODEL_600c9b050c604f42a8b2eb296dd3b2ab",
            "_dom_classes": [],
            "description": "Classify",
            "_model_name": "ButtonModel",
            "button_style": "",
            "_view_module": "@jupyter-widgets/controls",
            "_model_module_version": "1.5.0",
            "tooltip": "",
            "_view_count": null,
            "disabled": false,
            "_view_module_version": "1.5.0",
            "layout": "IPY_MODEL_347a79742f2e427f857288dcc99b23a4",
            "_model_module": "@jupyter-widgets/controls",
            "icon": ""
          }
        },
        "f402d1dc94b84462a8588004e5ef4390": {
          "model_module": "@jupyter-widgets/output",
          "model_name": "OutputModel",
          "model_module_version": "1.0.0",
          "state": {
            "_view_name": "OutputView",
            "msg_id": "",
            "_dom_classes": [],
            "_model_name": "OutputModel",
            "outputs": [
              {
                "output_type": "display_data",
                "data": {
                  "image/png": "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\n",
                  "text/plain": "<PIL.Image.Image image mode=RGB size=128x128 at 0x7F1FF9263C90>"
                },
                "metadata": {}
              }
            ],
            "_view_module": "@jupyter-widgets/output",
            "_model_module_version": "1.0.0",
            "_view_count": null,
            "_view_module_version": "1.0.0",
            "layout": "IPY_MODEL_3ad74f4b844d45df9c2640951e390c38",
            "_model_module": "@jupyter-widgets/output"
          }
        },
        "ad557899e9d4457b8170b672258eb615": {
          "model_module": "@jupyter-widgets/controls",
          "model_name": "LabelModel",
          "model_module_version": "1.5.0",
          "state": {
            "_view_name": "LabelView",
            "style": "IPY_MODEL_b78bdfc54d6f405abe60349a67d70cca",
            "_dom_classes": [],
            "description": "",
            "_model_name": "LabelModel",
            "placeholder": "​",
            "_view_module": "@jupyter-widgets/controls",
            "_model_module_version": "1.5.0",
            "value": "Prediction: hermes; Probability:  0.9793",
            "_view_count": null,
            "_view_module_version": "1.5.0",
            "description_tooltip": null,
            "_model_module": "@jupyter-widgets/controls",
            "layout": "IPY_MODEL_f85b2d7b2fb1465ba505120bf69acd62"
          }
        },
        "3e612108b6174e848e533059d1d7b3c2": {
          "model_module": "@jupyter-widgets/controls",
          "model_name": "DescriptionStyleModel",
          "model_module_version": "1.5.0",
          "state": {
            "_view_name": "StyleView",
            "_model_name": "DescriptionStyleModel",
            "description_width": "",
            "_view_module": "@jupyter-widgets/base",
            "_model_module_version": "1.5.0",
            "_view_count": null,
            "_view_module_version": "1.2.0",
            "_model_module": "@jupyter-widgets/controls"
          }
        },
        "dc3eff2c69bc42ab9b7a66ba63c37b05": {
          "model_module": "@jupyter-widgets/base",
          "model_name": "LayoutModel",
          "model_module_version": "1.2.0",
          "state": {
            "_view_name": "LayoutView",
            "grid_template_rows": null,
            "right": null,
            "justify_content": null,
            "_view_module": "@jupyter-widgets/base",
            "overflow": null,
            "_model_module_version": "1.2.0",
            "_view_count": null,
            "flex_flow": null,
            "width": null,
            "min_width": null,
            "border": null,
            "align_items": null,
            "bottom": null,
            "_model_module": "@jupyter-widgets/base",
            "top": null,
            "grid_column": null,
            "overflow_y": null,
            "overflow_x": null,
            "grid_auto_flow": null,
            "grid_area": null,
            "grid_template_columns": null,
            "flex": null,
            "_model_name": "LayoutModel",
            "justify_items": null,
            "grid_row": null,
            "max_height": null,
            "align_content": null,
            "visibility": null,
            "align_self": null,
            "height": null,
            "min_height": null,
            "padding": null,
            "grid_auto_rows": null,
            "grid_gap": null,
            "max_width": null,
            "order": null,
            "_view_module_version": "1.2.0",
            "grid_template_areas": null,
            "object_position": null,
            "object_fit": null,
            "grid_auto_columns": null,
            "margin": null,
            "display": null,
            "left": null
          }
        },
        "09aef74590bd4a409489feebb0dcaf58": {
          "model_module": "@jupyter-widgets/controls",
          "model_name": "ButtonStyleModel",
          "model_module_version": "1.5.0",
          "state": {
            "_view_name": "StyleView",
            "_model_name": "ButtonStyleModel",
            "_view_module": "@jupyter-widgets/base",
            "_model_module_version": "1.5.0",
            "_view_count": null,
            "button_color": null,
            "font_weight": "",
            "_view_module_version": "1.2.0",
            "_model_module": "@jupyter-widgets/controls"
          }
        },
        "3fc7477098b548ed81901342ea1b3b04": {
          "model_module": "@jupyter-widgets/base",
          "model_name": "LayoutModel",
          "model_module_version": "1.2.0",
          "state": {
            "_view_name": "LayoutView",
            "grid_template_rows": null,
            "right": null,
            "justify_content": null,
            "_view_module": "@jupyter-widgets/base",
            "overflow": null,
            "_model_module_version": "1.2.0",
            "_view_count": null,
            "flex_flow": null,
            "width": null,
            "min_width": null,
            "border": null,
            "align_items": null,
            "bottom": null,
            "_model_module": "@jupyter-widgets/base",
            "top": null,
            "grid_column": null,
            "overflow_y": null,
            "overflow_x": null,
            "grid_auto_flow": null,
            "grid_area": null,
            "grid_template_columns": null,
            "flex": null,
            "_model_name": "LayoutModel",
            "justify_items": null,
            "grid_row": null,
            "max_height": null,
            "align_content": null,
            "visibility": null,
            "align_self": null,
            "height": null,
            "min_height": null,
            "padding": null,
            "grid_auto_rows": null,
            "grid_gap": null,
            "max_width": null,
            "order": null,
            "_view_module_version": "1.2.0",
            "grid_template_areas": null,
            "object_position": null,
            "object_fit": null,
            "grid_auto_columns": null,
            "margin": null,
            "display": null,
            "left": null
          }
        },
        "600c9b050c604f42a8b2eb296dd3b2ab": {
          "model_module": "@jupyter-widgets/controls",
          "model_name": "ButtonStyleModel",
          "model_module_version": "1.5.0",
          "state": {
            "_view_name": "StyleView",
            "_model_name": "ButtonStyleModel",
            "_view_module": "@jupyter-widgets/base",
            "_model_module_version": "1.5.0",
            "_view_count": null,
            "button_color": null,
            "font_weight": "",
            "_view_module_version": "1.2.0",
            "_model_module": "@jupyter-widgets/controls"
          }
        },
        "347a79742f2e427f857288dcc99b23a4": {
          "model_module": "@jupyter-widgets/base",
          "model_name": "LayoutModel",
          "model_module_version": "1.2.0",
          "state": {
            "_view_name": "LayoutView",
            "grid_template_rows": null,
            "right": null,
            "justify_content": null,
            "_view_module": "@jupyter-widgets/base",
            "overflow": null,
            "_model_module_version": "1.2.0",
            "_view_count": null,
            "flex_flow": null,
            "width": null,
            "min_width": null,
            "border": null,
            "align_items": null,
            "bottom": null,
            "_model_module": "@jupyter-widgets/base",
            "top": null,
            "grid_column": null,
            "overflow_y": null,
            "overflow_x": null,
            "grid_auto_flow": null,
            "grid_area": null,
            "grid_template_columns": null,
            "flex": null,
            "_model_name": "LayoutModel",
            "justify_items": null,
            "grid_row": null,
            "max_height": null,
            "align_content": null,
            "visibility": null,
            "align_self": null,
            "height": null,
            "min_height": null,
            "padding": null,
            "grid_auto_rows": null,
            "grid_gap": null,
            "max_width": null,
            "order": null,
            "_view_module_version": "1.2.0",
            "grid_template_areas": null,
            "object_position": null,
            "object_fit": null,
            "grid_auto_columns": null,
            "margin": null,
            "display": null,
            "left": null
          }
        },
        "b78bdfc54d6f405abe60349a67d70cca": {
          "model_module": "@jupyter-widgets/controls",
          "model_name": "DescriptionStyleModel",
          "model_module_version": "1.5.0",
          "state": {
            "_view_name": "StyleView",
            "_model_name": "DescriptionStyleModel",
            "description_width": "",
            "_view_module": "@jupyter-widgets/base",
            "_model_module_version": "1.5.0",
            "_view_count": null,
            "_view_module_version": "1.2.0",
            "_model_module": "@jupyter-widgets/controls"
          }
        },
        "f85b2d7b2fb1465ba505120bf69acd62": {
          "model_module": "@jupyter-widgets/base",
          "model_name": "LayoutModel",
          "model_module_version": "1.2.0",
          "state": {
            "_view_name": "LayoutView",
            "grid_template_rows": null,
            "right": null,
            "justify_content": null,
            "_view_module": "@jupyter-widgets/base",
            "overflow": null,
            "_model_module_version": "1.2.0",
            "_view_count": null,
            "flex_flow": null,
            "width": null,
            "min_width": null,
            "border": null,
            "align_items": null,
            "bottom": null,
            "_model_module": "@jupyter-widgets/base",
            "top": null,
            "grid_column": null,
            "overflow_y": null,
            "overflow_x": null,
            "grid_auto_flow": null,
            "grid_area": null,
            "grid_template_columns": null,
            "flex": null,
            "_model_name": "LayoutModel",
            "justify_items": null,
            "grid_row": null,
            "max_height": null,
            "align_content": null,
            "visibility": null,
            "align_self": null,
            "height": null,
            "min_height": null,
            "padding": null,
            "grid_auto_rows": null,
            "grid_gap": null,
            "max_width": null,
            "order": null,
            "_view_module_version": "1.2.0",
            "grid_template_areas": null,
            "object_position": null,
            "object_fit": null,
            "grid_auto_columns": null,
            "margin": null,
            "display": null,
            "left": null
          }
        },
        "3ad74f4b844d45df9c2640951e390c38": {
          "model_module": "@jupyter-widgets/base",
          "model_name": "LayoutModel",
          "model_module_version": "1.2.0",
          "state": {
            "_view_name": "LayoutView",
            "grid_template_rows": null,
            "right": null,
            "justify_content": null,
            "_view_module": "@jupyter-widgets/base",
            "overflow": null,
            "_model_module_version": "1.2.0",
            "_view_count": null,
            "flex_flow": null,
            "width": null,
            "min_width": null,
            "border": null,
            "align_items": null,
            "bottom": null,
            "_model_module": "@jupyter-widgets/base",
            "top": null,
            "grid_column": null,
            "overflow_y": null,
            "overflow_x": null,
            "grid_auto_flow": null,
            "grid_area": null,
            "grid_template_columns": null,
            "flex": null,
            "_model_name": "LayoutModel",
            "justify_items": null,
            "grid_row": null,
            "max_height": null,
            "align_content": null,
            "visibility": null,
            "align_self": null,
            "height": null,
            "min_height": null,
            "padding": null,
            "grid_auto_rows": null,
            "grid_gap": null,
            "max_width": null,
            "order": null,
            "_view_module_version": "1.2.0",
            "grid_template_areas": null,
            "object_position": null,
            "object_fit": null,
            "grid_auto_columns": null,
            "margin": null,
            "display": null,
            "left": null
          }
        }
      }
    }
  },
  "cells": [
    {
      "cell_type": "markdown",
      "metadata": {
        "id": "view-in-github",
        "colab_type": "text"
      },
      "source": [
        "<a href=\"https://colab.research.google.com/github/enzhouliu/fast.ai/blob/main/bag_classifier_ui.ipynb\" target=\"_parent\"><img src=\"https://colab.research.google.com/assets/colab-badge.svg\" alt=\"Open In Colab\"/></a>"
      ]
    },
    {
      "cell_type": "code",
      "metadata": {
        "colab": {
          "base_uri": "https://localhost:8080/"
        },
        "id": "j7vHq4oY7NXA",
        "outputId": "9afa2ca6-07d1-4b70-ee87-35c8ae787dac"
      },
      "source": [
        "!pip install -Uqq fastbook\n",
        "import fastbook"
      ],
      "execution_count": 2,
      "outputs": [
        {
          "output_type": "stream",
          "name": "stdout",
          "text": [
            "\u001b[?25l\r\u001b[K     |▊                               | 10 kB 27.7 MB/s eta 0:00:01\r\u001b[K     |█▍                              | 20 kB 17.8 MB/s eta 0:00:01\r\u001b[K     |██▏                             | 30 kB 10.2 MB/s eta 0:00:01\r\u001b[K     |██▉                             | 40 kB 8.6 MB/s eta 0:00:01\r\u001b[K     |███▋                            | 51 kB 5.2 MB/s eta 0:00:01\r\u001b[K     |████▎                           | 61 kB 5.8 MB/s eta 0:00:01\r\u001b[K     |█████                           | 71 kB 5.5 MB/s eta 0:00:01\r\u001b[K     |█████▊                          | 81 kB 6.2 MB/s eta 0:00:01\r\u001b[K     |██████▌                         | 92 kB 4.8 MB/s eta 0:00:01\r\u001b[K     |███████▏                        | 102 kB 5.2 MB/s eta 0:00:01\r\u001b[K     |████████                        | 112 kB 5.2 MB/s eta 0:00:01\r\u001b[K     |████████▋                       | 122 kB 5.2 MB/s eta 0:00:01\r\u001b[K     |█████████▍                      | 133 kB 5.2 MB/s eta 0:00:01\r\u001b[K     |██████████                      | 143 kB 5.2 MB/s eta 0:00:01\r\u001b[K     |██████████▉                     | 153 kB 5.2 MB/s eta 0:00:01\r\u001b[K     |███████████▌                    | 163 kB 5.2 MB/s eta 0:00:01\r\u001b[K     |████████████▎                   | 174 kB 5.2 MB/s eta 0:00:01\r\u001b[K     |█████████████                   | 184 kB 5.2 MB/s eta 0:00:01\r\u001b[K     |█████████████▊                  | 194 kB 5.2 MB/s eta 0:00:01\r\u001b[K     |██████████████▍                 | 204 kB 5.2 MB/s eta 0:00:01\r\u001b[K     |███████████████▏                | 215 kB 5.2 MB/s eta 0:00:01\r\u001b[K     |███████████████▉                | 225 kB 5.2 MB/s eta 0:00:01\r\u001b[K     |████████████████▋               | 235 kB 5.2 MB/s eta 0:00:01\r\u001b[K     |█████████████████▎              | 245 kB 5.2 MB/s eta 0:00:01\r\u001b[K     |██████████████████              | 256 kB 5.2 MB/s eta 0:00:01\r\u001b[K     |██████████████████▊             | 266 kB 5.2 MB/s eta 0:00:01\r\u001b[K     |███████████████████▍            | 276 kB 5.2 MB/s eta 0:00:01\r\u001b[K     |████████████████████▏           | 286 kB 5.2 MB/s eta 0:00:01\r\u001b[K     |████████████████████▉           | 296 kB 5.2 MB/s eta 0:00:01\r\u001b[K     |█████████████████████▋          | 307 kB 5.2 MB/s eta 0:00:01\r\u001b[K     |██████████████████████▎         | 317 kB 5.2 MB/s eta 0:00:01\r\u001b[K     |███████████████████████         | 327 kB 5.2 MB/s eta 0:00:01\r\u001b[K     |███████████████████████▊        | 337 kB 5.2 MB/s eta 0:00:01\r\u001b[K     |████████████████████████▌       | 348 kB 5.2 MB/s eta 0:00:01\r\u001b[K     |█████████████████████████▏      | 358 kB 5.2 MB/s eta 0:00:01\r\u001b[K     |██████████████████████████      | 368 kB 5.2 MB/s eta 0:00:01\r\u001b[K     |██████████████████████████▋     | 378 kB 5.2 MB/s eta 0:00:01\r\u001b[K     |███████████████████████████▍    | 389 kB 5.2 MB/s eta 0:00:01\r\u001b[K     |████████████████████████████    | 399 kB 5.2 MB/s eta 0:00:01\r\u001b[K     |████████████████████████████▉   | 409 kB 5.2 MB/s eta 0:00:01\r\u001b[K     |█████████████████████████████▌  | 419 kB 5.2 MB/s eta 0:00:01\r\u001b[K     |██████████████████████████████▎ | 430 kB 5.2 MB/s eta 0:00:01\r\u001b[K     |███████████████████████████████ | 440 kB 5.2 MB/s eta 0:00:01\r\u001b[K     |███████████████████████████████▊| 450 kB 5.2 MB/s eta 0:00:01\r\u001b[K     |████████████████████████████████| 455 kB 5.2 MB/s \n",
            "\u001b[31mERROR: pip's dependency resolver does not currently take into account all the packages that are installed. This behaviour is the source of the following dependency conflicts.\n",
            "voila 0.2.16 requires nbconvert<7,>=6.0.0, but you have nbconvert 5.6.1 which is incompatible.\n",
            "google-colab 1.0.0 requires tornado~=5.1.0; python_version >= \"3.0\", but you have tornado 6.1 which is incompatible.\u001b[0m\n",
            "\u001b[?25h"
          ]
        }
      ]
    },
    {
      "cell_type": "code",
      "metadata": {
        "id": "ci6dFQ1n8olJ"
      },
      "source": [
        "from fastbook import *\n",
        "from fastai.vision.widgets import *"
      ],
      "execution_count": 4,
      "outputs": []
    },
    {
      "cell_type": "code",
      "metadata": {
        "id": "WMF2HLli84fB"
      },
      "source": [
        "learn_inf = load_learner(Path()/'export.pkl')"
      ],
      "execution_count": 7,
      "outputs": []
    },
    {
      "cell_type": "code",
      "metadata": {
        "id": "tj7d0mNX8-Sc"
      },
      "source": [
        "btn_upload = widgets.FileUpload()"
      ],
      "execution_count": 8,
      "outputs": []
    },
    {
      "cell_type": "code",
      "metadata": {
        "id": "CDjq3v2E-D84"
      },
      "source": [
        "output_pl = widgets.Output()"
      ],
      "execution_count": 9,
      "outputs": []
    },
    {
      "cell_type": "code",
      "metadata": {
        "id": "J81ZrXqg8DTW"
      },
      "source": [
        "lbl_pred = widgets.Label()\n",
        "btn_run = widgets.Button(description='Classify')"
      ],
      "execution_count": 10,
      "outputs": []
    },
    {
      "cell_type": "code",
      "metadata": {
        "id": "hFrgIERe9faW"
      },
      "source": [
        "def on_click_classify(change):\n",
        "  img = PILImage.create(btn_upload.data[-1])\n",
        "  output_pl.clear_output()\n",
        "  with output_pl: display(img.to_thumb(128, 128))\n",
        "  pred, pred_idx, probs = learn_inf.predict(img)\n",
        "  lbl_pred.value = f'Prediction: {pred}; Probability: {probs[pred_idx]: 0.4f}'\n",
        "\n",
        "btn_run.on_click(on_click_classify)"
      ],
      "execution_count": 11,
      "outputs": []
    },
    {
      "cell_type": "code",
      "metadata": {
        "colab": {
          "base_uri": "https://localhost:8080/",
          "height": 327,
          "referenced_widgets": [
            "d9c44993f4ee46a5bf05608439d2639f",
            "55d95c30511544a6840ed2d8529e8c80",
            "ff7452941ce04e3da5a7b40611d58b4f",
            "02d922fdbd474b0e9fe308109647788d",
            "c1181947fccd4903803e0ee58e4b7e6b",
            "f402d1dc94b84462a8588004e5ef4390",
            "ad557899e9d4457b8170b672258eb615",
            "3e612108b6174e848e533059d1d7b3c2",
            "dc3eff2c69bc42ab9b7a66ba63c37b05",
            "09aef74590bd4a409489feebb0dcaf58",
            "3fc7477098b548ed81901342ea1b3b04",
            "600c9b050c604f42a8b2eb296dd3b2ab",
            "347a79742f2e427f857288dcc99b23a4",
            "b78bdfc54d6f405abe60349a67d70cca",
            "f85b2d7b2fb1465ba505120bf69acd62",
            "3ad74f4b844d45df9c2640951e390c38"
          ]
        },
        "id": "ym17CExs_Ywr",
        "outputId": "70a6188f-b728-4574-d9f0-4a67b833804f"
      },
      "source": [
        "VBox([widgets.Label('Select your handbag!'),\n",
        "      btn_upload, btn_run, output_pl, lbl_pred])"
      ],
      "execution_count": 12,
      "outputs": [
        {
          "output_type": "display_data",
          "data": {
            "application/vnd.jupyter.widget-view+json": {
              "model_id": "d9c44993f4ee46a5bf05608439d2639f",
              "version_minor": 0,
              "version_major": 2
            },
            "text/plain": [
              "VBox(children=(Label(value='Select your handbag!'), FileUpload(value={}, description='Upload'), Button(descrip…"
            ]
          },
          "metadata": {}
        },
        {
          "output_type": "display_data",
          "data": {
            "text/html": [
              ""
            ],
            "text/plain": [
              "<IPython.core.display.HTML object>"
            ]
          },
          "metadata": {}
        },
        {
          "output_type": "stream",
          "name": "stderr",
          "text": [
            "/usr/local/lib/python3.7/dist-packages/torch/nn/functional.py:718: UserWarning: Named tensors and all their associated APIs are an experimental feature and subject to change. Please do not use them for anything important until they are released as stable. (Triggered internally at  /pytorch/c10/core/TensorImpl.h:1156.)\n",
            "  return torch.max_pool2d(input, kernel_size, stride, padding, dilation, ceil_mode)\n"
          ]
        }
      ]
    }
  ]
}